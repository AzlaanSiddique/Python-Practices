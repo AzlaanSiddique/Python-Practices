{
 "cells": [
  {
   "cell_type": "code",
   "execution_count": 1,
   "metadata": {},
   "outputs": [
    {
     "name": "stdout",
     "output_type": "stream",
     "text": [
      "Abdullah\n",
      "Ammar\n",
      "Usman\n",
      "Aliyan\n"
     ]
    }
   ],
   "source": [
    "# Exercise 3-1: Names\n",
    "names:list=(\"Abdullah\",\"Ammar\",\"Usman\",\"Aliyan\")\n",
    "for name in names:   #(Printing each name in the list on a separate line)\n",
    "    print(name)"
   ]
  },
  {
   "cell_type": "code",
   "execution_count": 8,
   "metadata": {},
   "outputs": [
    {
     "name": "stdout",
     "output_type": "stream",
     "text": [
      "Hello, Abdullah\n",
      "Hello, Ammar\n",
      "Hello, Usman\n",
      "Hello, Aliyan\n"
     ]
    }
   ],
   "source": [
    "# Exercise 3-2: Greetings\n",
    "# Printing a message with each element in the list\n",
    "message=(f\"Hello, {names[0]}\")\n",
    "print(message)\n",
    "message=(f\"Hello, {names[1]}\")\n",
    "print(message)\n",
    "message=(f\"Hello, {names[2]}\")\n",
    "print(message)\n",
    "message=(f\"Hello, {names[3]}\")\n",
    "print(message)\n"
   ]
  },
  {
   "cell_type": "code",
   "execution_count": 9,
   "metadata": {},
   "outputs": [
    {
     "name": "stdout",
     "output_type": "stream",
     "text": [
      "I would like to own a Honda\n",
      "I would like to own a Civic\n",
      "I would like to own a Elantra\n",
      "I would like to own a Yamaha\n",
      "I would like to own a Ferrari\n"
     ]
    }
   ],
   "source": [
    "# Exercise 3-3: Your Own List\n",
    "fav_transports:list=(\"Honda\",\"Civic\",\"Elantra\",\"Yamaha\",\"Ferrari\")\n",
    "for transport in fav_transports:   #(printing a series of statements)\n",
    "    print(f\"I would like to own a {transport}\")"
   ]
  },
  {
   "cell_type": "code",
   "execution_count": 24,
   "metadata": {},
   "outputs": [
    {
     "name": "stdout",
     "output_type": "stream",
     "text": [
      "I would like to invite Asfand to a dinner tonight!\n",
      "I would like to invite Ali to a dinner tonight!\n",
      "I would like to invite Tanveer to a dinner tonight!\n",
      "I would like to invite Saeed to a dinner tonight!\n"
     ]
    }
   ],
   "source": [
    "# Exercise 3-4: Guest List\n",
    "members_to_invite:list=(\"Asfand\",\"Ali\",\"Tanveer\",\"Saeed\")\n",
    "for member in members_to_invite:   #(inviting each member with a message)\n",
    "    print(f\"I would like to invite {member} to a dinner tonight!\")"
   ]
  },
  {
   "cell_type": "code",
   "execution_count": 22,
   "metadata": {},
   "outputs": [
    {
     "name": "stdout",
     "output_type": "stream",
     "text": [
      "Asfand could not make it to the dinner!\n",
      "\n",
      "Dear Daaim you are still invited to the dinner!\n",
      "Dear Ali you are still invited to the dinner!\n",
      "Dear Tanveer you are still invited to the dinner!\n",
      "Dear Saeed you are still invited to the dinner!\n"
     ]
    }
   ],
   "source": [
    "# Exercise 3-5: Changing Guest List\n",
    "members_to_invite:list=[\"Asfand\",\"Ali\",\"Tanveer\",\"Saeed\"]\n",
    "print(f\"{members_to_invite[0]} could not make it to the dinner!\\n\")  #(printing the person who could'nt make it to the dinner)\n",
    "members_to_invite [0] = \"Daaim\"\n",
    "for new_member in members_to_invite:  #(printing new list of members invited)\n",
    "    print(f\"Dear {new_member} you are still invited to the dinner!\")\n"
   ]
  },
  {
   "cell_type": "code",
   "execution_count": 27,
   "metadata": {},
   "outputs": [
    {
     "name": "stdout",
     "output_type": "stream",
     "text": [
      "Dear, ['Asfand', 'Ali', 'Tanveer', 'Saeed'] you guys are invited to the dinner\n",
      "I found a bigger table so Im inviting more people\n",
      "\n",
      "Dear Asfand, you are now invited to the dinner\n",
      "Dear Ammar, you are now invited to the dinner\n",
      "Dear Amsil, you are now invited to the dinner\n",
      "Dear Ali, you are now invited to the dinner\n",
      "Dear Tanveer, you are now invited to the dinner\n",
      "Dear Saeed, you are now invited to the dinner\n",
      "Dear Mutaher, you are now invited to the dinner\n"
     ]
    }
   ],
   "source": [
    "# Exercise 3-6: More Guests\n",
    "members_to_invite:list=[\"Asfand\",\"Ali\",\"Tanveer\",\"Saeed\"]\n",
    "print(f\"Dear, {members_to_invite} you guys are invited to the dinner!\")\n",
    "print(\"I found a bigger table so Im inviting more people\\n\") # Informing that I found a bigger table for the dinner\n",
    "\n",
    "# Adding new guests to the list\n",
    "members_to_invite.insert(1, \"Ammar\")  # Adding to the beginning\n",
    "members_to_invite.insert(2, \"Amsil\")  # Adding to the middle\n",
    "members_to_invite.append(\"Mutaher\")   # Adding to the end\n",
    "\n",
    "# Printing the new set of invitation messages\n",
    "for more_members in members_to_invite:\n",
    "    print(f\"Dear {more_members}, you are now invited to the dinner!\") "
   ]
  },
  {
   "cell_type": "code",
   "execution_count": 29,
   "metadata": {},
   "outputs": [
    {
     "name": "stdout",
     "output_type": "stream",
     "text": [
      "Due to some reason, I can only invite 2 people at the dinner\n",
      "\n",
      "Dear Asfand, I could not invite you to the dinner\n",
      "Dear Tanveer, I could not invite you to the dinner\n",
      "\n",
      "Dear Ali, you are invited to the dinner!\n",
      "Dear Saeed, you are invited to the dinner!\n",
      "[]\n"
     ]
    }
   ],
   "source": [
    "# Exercise 3-7: Shrinking Guest List\n",
    "members_to_invite:list=[\"Asfand\",\"Ali\",\"Tanveer\",\"Saeed\"]\n",
    "print(\"Due to some reason, I can only invite 2 people at the dinner\\n\") # Informing that I could only invite 2 people \n",
    "print(f\"Dear {members_to_invite[0]}, I could not invite you to the dinner\")  # Removing a guest\n",
    "members_to_invite.pop(0)\n",
    "print(f\"Dear {members_to_invite[1]}, I could not invite you to the dinner\\n\")  # Removing another guest\n",
    "members_to_invite.pop(1)\n",
    "for remaining_guests in members_to_invite:\n",
    "    print(f\"Dear {remaining_guests}, you are invited to the dinner!\")\n",
    "del members_to_invite[0]  # Deleing the rest of the members from the list\n",
    "del members_to_invite[0]\n",
    "print(members_to_invite) # check"
   ]
  },
  {
   "cell_type": "code",
   "execution_count": 23,
   "metadata": {},
   "outputs": [
    {
     "name": "stdout",
     "output_type": "stream",
     "text": [
      "['Tokyo', 'London', 'America', 'Paris', 'Chicago']\n",
      "['America', 'Chicago', 'London', 'Paris', 'Tokyo']\n",
      "['Tokyo', 'London', 'America', 'Paris', 'Chicago']\n",
      "['Tokyo', 'Paris', 'London', 'Chicago', 'America']\n",
      "['Tokyo', 'London', 'America', 'Paris', 'Chicago']\n",
      "['Chicago', 'Paris', 'America', 'London', 'Tokyo']\n",
      "['Tokyo', 'London', 'America', 'Paris', 'Chicago']\n"
     ]
    }
   ],
   "source": [
    "#Exercise 3-8: Seeing the World\n",
    "places:list=[\"Tokyo\",\"London\",\"America\",\"Paris\",\"Chicago\"]\n",
    "print(places)    # printing the raw list\n",
    "print(sorted(places))   # sorting the list in alphabetical order\n",
    "print(places)   # printing again to show that the list is still in its original order\n",
    "print(sorted(places,reverse=True))   # printing in reverse alphabetical sorted\n",
    "print(places)   # printing again to show that the list is still in its original order\n",
    "places.reverse()    # reversing the list order\n",
    "print(places)\n",
    "places.reverse()   # reversing again to bring the list back to original order\n",
    "print(places)\n",
    "places.sort()   # sorting and printing the list in alphabetical order\n",
    "print(places)"
   ]
  },
  {
   "cell_type": "code",
   "execution_count": 31,
   "metadata": {},
   "outputs": [
    {
     "name": "stdout",
     "output_type": "stream",
     "text": [
      "['Banana', 'Apple', 'Cherry', 'Mango', 'Kiwi']\n",
      "['Banana', 'Apple', 'Cherry', 'Mango', 'Kiwi', 'Berries']\n",
      "['Banana', 'Apple', 'Cherry', 'Mango', 'Kiwi', 'Berries', 'G', 'u', 'a', 'v', 'a']\n",
      "['Banana', 'Apple', 'Peach', 'Cherry', 'Mango', 'Kiwi', 'Berries', 'G', 'u', 'a', 'v', 'a']\n",
      "['Banana', 'Apple', 'Cherry', 'Mango', 'Kiwi', 'Berries', 'G', 'u', 'a', 'v', 'a']\n",
      "['Banana', 'Apple', 'Cherry', 'Kiwi', 'Berries', 'G', 'u', 'a', 'v', 'a']\n",
      "3\n",
      "1\n",
      "['Apple', 'Banana', 'Berries', 'Cherry', 'G', 'Kiwi', 'a', 'a', 'u', 'v']\n",
      "['a', 'v', 'a', 'u', 'G', 'Berries', 'Kiwi', 'Cherry', 'Apple', 'Banana']\n",
      "['a', 'v', 'a', 'u', 'G', 'Berries', 'Kiwi', 'Cherry', 'Apple', 'Banana']\n",
      "[]\n"
     ]
    }
   ],
   "source": [
    "# Exercise 3-9: Every Function\n",
    "example_list:list=[\"Banana\",\"Apple\",\"Cherry\",\"Mango\",\"Kiwi\"]\n",
    "print(example_list)\n",
    "example_list.append(\"Berries\")  \n",
    "print(example_list)\n",
    "example_list.extend(\"Guava\")\n",
    "print(example_list)\n",
    "example_list.insert(2,\"Peach\")\n",
    "print(example_list)\n",
    "example_list.remove(\"Peach\")\n",
    "print(example_list)\n",
    "example_list.pop(3)\n",
    "print(example_list)\n",
    "print(example_list.index(\"Kiwi\"))\n",
    "print(example_list.count(\"Banana\"))\n",
    "print(sorted(example_list))\n",
    "example_list.reverse()\n",
    "print(example_list)\n",
    "example_list2 = example_list.copy()\n",
    "print(example_list2)\n",
    "example_list.clear()\n",
    "print(example_list)"
   ]
  },
  {
   "cell_type": "code",
   "execution_count": null,
   "metadata": {},
   "outputs": [],
   "source": [
    "# Exercise 3-10: Intentional Error\n",
    "numbers = [10, 20, 30, 40, 50]\n",
    "\n",
    "# Intentionally causing an IndexError by trying to access the 6th element (index 5)\n",
    "# The list has only 5 elements, so the maximum valid index is 4\n",
    "# print(numbers[5]) This will cause an IndexError\n",
    "print(numbers[4])  #This will solve the error\n"
   ]
  }
 ],
 "metadata": {
  "kernelspec": {
   "display_name": "Python 3",
   "language": "python",
   "name": "python3"
  },
  "language_info": {
   "codemirror_mode": {
    "name": "ipython",
    "version": 3
   },
   "file_extension": ".py",
   "mimetype": "text/x-python",
   "name": "python",
   "nbconvert_exporter": "python",
   "pygments_lexer": "ipython3",
   "version": "3.12.4"
  }
 },
 "nbformat": 4,
 "nbformat_minor": 2
}
