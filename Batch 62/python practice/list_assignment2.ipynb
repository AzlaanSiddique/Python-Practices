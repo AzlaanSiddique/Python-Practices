{
 "cells": [
  {
   "cell_type": "code",
   "execution_count": 1,
   "metadata": {},
   "outputs": [
    {
     "name": "stdout",
     "output_type": "stream",
     "text": [
      "['Banana', 'Apple', 'Cherry', 'Mango', 'Kiwi']\n",
      "['Banana', 'Apple', 'Cherry', 'Mango', 'Kiwi', 'Berries']\n",
      "['Banana', 'Apple', 'Cherry', 'Mango', 'Kiwi', 'Berries', 'G', 'u', 'a', 'v', 'a']\n",
      "['Banana', 'Apple', 'Peach', 'Cherry', 'Mango', 'Kiwi', 'Berries', 'G', 'u', 'a', 'v', 'a']\n",
      "['Banana', 'Apple', 'Cherry', 'Mango', 'Kiwi', 'Berries', 'G', 'u', 'a', 'v', 'a']\n",
      "['Banana', 'Apple', 'Cherry', 'Kiwi', 'Berries', 'G', 'u', 'a', 'v', 'a']\n",
      "3\n",
      "1\n",
      "['Apple', 'Banana', 'Berries', 'Cherry', 'G', 'Kiwi', 'a', 'a', 'u', 'v']\n",
      "['a', 'v', 'a', 'u', 'G', 'Berries', 'Kiwi', 'Cherry', 'Apple', 'Banana']\n",
      "['a', 'v', 'a', 'u', 'G', 'Berries', 'Kiwi', 'Cherry', 'Apple', 'Banana']\n",
      "[]\n"
     ]
    }
   ],
   "source": [
    "# Creating an example list\n",
    "example_list:list=[\"Banana\",\"Apple\",\"Cherry\",\"Mango\",\"Kiwi\"]\n",
    "print(example_list)\n",
    "\n",
    "# Append Function\n",
    "# The append() function is a built-in function used to add an item to the end of a list. \n",
    "example_list.append(\"Berries\")  \n",
    "print(example_list)\n",
    "\n",
    "# Extend Function\n",
    "# Extend() list function is used to add elements of an iterable (such as string, list, tuple, set, etc.) to the end of another list.\n",
    "example_list.extend(\"Guava\")\n",
    "print(example_list)\n",
    "\n",
    "# Insert Function\n",
    "# Insert() list function is used to add a new value in the list\n",
    "example_list.insert(2,\"Peach\")\n",
    "print(example_list)\n",
    "\n",
    "# Remove Features\n",
    "# Remove() feature is used to remove a value from a list \n",
    "example_list.remove(\"Peach\")\n",
    "print(example_list)\n",
    "\n",
    "# Pop Function \n",
    "# The pop() method removes and returns the last element from a Python list by default\n",
    "example_list.pop(3)\n",
    "print(example_list)\n",
    "\n",
    "# Index Function\n",
    "# The index () helps us find the position of an item in a list\n",
    "print(example_list.index(\"Kiwi\"))\n",
    "\n",
    "# Count Function\n",
    "# The count () function is used t find the number of times a value is repeated in a  list\n",
    "print(example_list.count(\"Banana\"))\n",
    "\n",
    "# Sort function\n",
    "# The sort feature is used to sort the list in different orders\n",
    "print(sorted(example_list))\n",
    "\n",
    "# Reverse Function\n",
    "# The reverse function is used to print the list in reverse order\n",
    "example_list.reverse()\n",
    "print(example_list)\n",
    "\n",
    "# Copy Function\n",
    "# The copy function is used to copy a list into another variable\n",
    "example_list2 = example_list.copy()\n",
    "print(example_list2)\n",
    "\n",
    "# Clear Function\n",
    "# The clear function is used to clear all the values from the list\n",
    "example_list.clear()\n",
    "print(example_list)"
   ]
  }
 ],
 "metadata": {
  "kernelspec": {
   "display_name": "Python 3",
   "language": "python",
   "name": "python3"
  },
  "language_info": {
   "codemirror_mode": {
    "name": "ipython",
    "version": 3
   },
   "file_extension": ".py",
   "mimetype": "text/x-python",
   "name": "python",
   "nbconvert_exporter": "python",
   "pygments_lexer": "ipython3",
   "version": "3.12.4"
  }
 },
 "nbformat": 4,
 "nbformat_minor": 2
}
